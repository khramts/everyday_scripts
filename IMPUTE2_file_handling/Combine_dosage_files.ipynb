{
 "cells": [
  {
   "cell_type": "markdown",
   "metadata": {},
   "source": [
    "# Combine Dosage Files\n",
    "\n",
    "### Description\n",
    "author: Katya\n",
    "\n",
    "date: 03/17/2016\n",
    "\n",
    "This script is for combining dosage files from two data sets which have been previously imputed separately.\n",
    "\n",
    "#### Dosage file format\n",
    "\n",
    "```\n",
    "Rs_number A1 A2 FID1 FID2 FID2 IID2 ... FIDn IIDn\n",
    "rs146752890 C G 0.791 0.206 0.946 0.053\n",
    "```\n",
    "\n",
    "In this file format two dosages are given: A1A1 and A1A2. A2A2 can be calculated by substracting the other two dosages from 1.\n",
    "\n",
    "#### Map file format\n",
    "```\n",
    "Chromosome Variant_identifier(rs_number) Position(in_morgans_or_centimorgans) Base-pair_coordinate\n",
    "22 rs7290642 0 27001364\n",
    "```\n",
    "\n",
    "#### Fam file format\n",
    "```\n",
    "FID IID Father_ID Mother_ID Sex Phenotype\n",
    "FID1 IID1 0 0 2 1\n",
    "```\n",
    "Sex: 1-male, 2-female; \n",
    "Phenotype: 1-control, 2-case"
   ]
  },
  {
   "cell_type": "markdown",
   "metadata": {},
   "source": [
    "# Step 1\n",
    "\n",
    "Importing all"
   ]
  },
  {
   "cell_type": "code",
   "execution_count": null,
   "metadata": {
    "collapsed": true
   },
   "outputs": [],
   "source": []
  },
  {
   "cell_type": "code",
   "execution_count": 3,
   "metadata": {
    "collapsed": true
   },
   "outputs": [],
   "source": [
    "%matplotlib inline\n",
    "import numpy as np\n",
    "import matplotlib.pyplot as plt"
   ]
  },
  {
   "cell_type": "code",
   "execution_count": null,
   "metadata": {
    "collapsed": false
   },
   "outputs": [],
   "source": []
  }
 ],
 "metadata": {
  "kernelspec": {
   "display_name": "Python 2",
   "language": "python",
   "name": "python2"
  },
  "language_info": {
   "codemirror_mode": {
    "name": "ipython",
    "version": 2
   },
   "file_extension": ".py",
   "mimetype": "text/x-python",
   "name": "python",
   "nbconvert_exporter": "python",
   "pygments_lexer": "ipython2",
   "version": "2.7.11"
  }
 },
 "nbformat": 4,
 "nbformat_minor": 0
}
